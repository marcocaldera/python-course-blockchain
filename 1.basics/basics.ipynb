{
 "cells": [
  {
   "cell_type": "code",
   "execution_count": 1,
   "metadata": {},
   "outputs": [
    {
     "output_type": "execute_result",
     "data": {
      "text/plain": "10000000000.0"
     },
     "metadata": {},
     "execution_count": 1
    }
   ],
   "source": [
    "num = 1e10 # exponential number\n",
    "num"
   ]
  },
  {
   "cell_type": "markdown",
   "metadata": {},
   "source": [
    "I computer non riescono ad esprime i numeri frazionari (e.g., 0.9) e li devono approssimare"
   ]
  },
  {
   "cell_type": "code",
   "execution_count": 3,
   "metadata": {},
   "outputs": [
    {
     "output_type": "execute_result",
     "data": {
      "text/plain": "0.09999999999999998"
     },
     "metadata": {},
     "execution_count": 3
    }
   ],
   "source": [
    "# Float problem\n",
    "1 - 0.9"
   ]
  },
  {
   "cell_type": "code",
   "execution_count": 3,
   "metadata": {},
   "outputs": [
    {
     "output_type": "execute_result",
     "data": {
      "text/plain": "'ciao ciao\\ntutto bene\\n'"
     },
     "metadata": {},
     "execution_count": 3
    }
   ],
   "source": [
    "\"\"\"ciao ciao\n",
    "tutto bene\n",
    "\"\"\""
   ]
  },
  {
   "cell_type": "code",
   "execution_count": 8,
   "metadata": {
    "tags": []
   },
   "outputs": [
    {
     "output_type": "stream",
     "name": "stdout",
     "text": "Lisy\n"
    }
   ],
   "source": [
    "name = 'Marco'\n",
    "\n",
    "def get_name():\n",
    "    global name # in questo modo il valore che assegno a name indico che vada assegnata alla variabile globale name\n",
    "    name = 'Lisy'\n",
    "\n",
    "get_name()\n",
    "print(name)"
   ]
  },
  {
   "cell_type": "markdown",
   "metadata": {},
   "source": [
    "### List comprehensions"
   ]
  },
  {
   "cell_type": "code",
   "execution_count": 1,
   "metadata": {},
   "outputs": [],
   "source": [
    "simple_list = [1,2,3,4]"
   ]
  },
  {
   "cell_type": "code",
   "execution_count": 2,
   "metadata": {},
   "outputs": [
    {
     "output_type": "execute_result",
     "data": {
      "text/plain": "[2, 4, 6, 8]"
     },
     "metadata": {},
     "execution_count": 2
    }
   ],
   "source": [
    "doubled_list = []\n",
    "for element in simple_list:\n",
    "    doubled_list.append(element*2)\n",
    "\n",
    "doubled_list"
   ]
  },
  {
   "cell_type": "code",
   "execution_count": 11,
   "metadata": {},
   "outputs": [
    {
     "output_type": "execute_result",
     "data": {
      "text/plain": "[2, 4, 6, 8]"
     },
     "metadata": {},
     "execution_count": 11
    }
   ],
   "source": [
    "# List comprehensions\n",
    "doubled_list = []\n",
    "doubled_list = [el * 2 for el in simple_list]\n",
    "\n",
    "doubled_list"
   ]
  },
  {
   "cell_type": "code",
   "execution_count": 12,
   "metadata": {},
   "outputs": [
    {
     "output_type": "execute_result",
     "data": {
      "text/plain": "[4, 8]"
     },
     "metadata": {},
     "execution_count": 12
    }
   ],
   "source": [
    "# List comprehensions with if statement\n",
    "doubled_list = []\n",
    "doubled_list = [el * 2 for el in simple_list if el % 2 == 0]\n",
    "\n",
    "doubled_list"
   ]
  },
  {
   "cell_type": "markdown",
   "metadata": {},
   "source": [
    "### Dict comprehensions"
   ]
  },
  {
   "cell_type": "code",
   "execution_count": 7,
   "metadata": {},
   "outputs": [
    {
     "output_type": "execute_result",
     "data": {
      "text/plain": "{'age': 29, 'weight': 85, 'height': 186}"
     },
     "metadata": {},
     "execution_count": 7
    }
   ],
   "source": [
    "stats = [('age', 29), ('weight', 85), ('height', 186)]\n",
    "dict_stats = {key: value for (key, value) in stats}\n",
    "dict_stats"
   ]
  },
  {
   "cell_type": "code",
   "execution_count": null,
   "metadata": {},
   "outputs": [],
   "source": []
  }
 ],
 "metadata": {
  "language_info": {
   "codemirror_mode": {
    "name": "ipython",
    "version": 3
   },
   "file_extension": ".py",
   "mimetype": "text/x-python",
   "name": "python",
   "nbconvert_exporter": "python",
   "pygments_lexer": "ipython3",
   "version": "3.8.2-final"
  },
  "orig_nbformat": 2,
  "kernelspec": {
   "name": "python38264bitee7ac016a5f7431aa6edd148f73b1278",
   "display_name": "Python 3.8.2 64-bit"
  }
 },
 "nbformat": 4,
 "nbformat_minor": 2
}
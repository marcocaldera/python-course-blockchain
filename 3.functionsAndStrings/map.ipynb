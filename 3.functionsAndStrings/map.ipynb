{
 "metadata": {
  "language_info": {
   "codemirror_mode": {
    "name": "ipython",
    "version": 3
   },
   "file_extension": ".py",
   "mimetype": "text/x-python",
   "name": "python",
   "nbconvert_exporter": "python",
   "pygments_lexer": "ipython3",
   "version": 3
  },
  "orig_nbformat": 2,
  "kernelspec": {
   "name": "python_defaultSpec_1596360913983",
   "display_name": "Python 3.8.2 64-bit"
  }
 },
 "nbformat": 4,
 "nbformat_minor": 2,
 "cells": [
  {
   "cell_type": "markdown",
   "metadata": {},
   "source": [
    "# map function\n",
    "\n",
    "List comprehensions è più veloce che usare `map`"
   ]
  },
  {
   "cell_type": "code",
   "execution_count": 1,
   "metadata": {},
   "outputs": [
    {
     "output_type": "execute_result",
     "data": {
      "text/plain": "<map at 0x10a1da910>"
     },
     "metadata": {},
     "execution_count": 1
    }
   ],
   "source": [
    "simple_list = [1,2,3,4]\n",
    "\n",
    "def multiply(el):\n",
    "    return el * 2\n",
    "\n",
    "map(multiply, simple_list)"
   ]
  },
  {
   "cell_type": "code",
   "execution_count": 2,
   "metadata": {},
   "outputs": [
    {
     "output_type": "execute_result",
     "data": {
      "text/plain": "[2, 4, 6, 8]"
     },
     "metadata": {},
     "execution_count": 2
    }
   ],
   "source": [
    "list(map(multiply, simple_list))"
   ]
  },
  {
   "cell_type": "code",
   "execution_count": 3,
   "metadata": {},
   "outputs": [
    {
     "output_type": "execute_result",
     "data": {
      "text/plain": "['1', '2', '3', '4']"
     },
     "metadata": {},
     "execution_count": 3
    }
   ],
   "source": [
    "list(map(str, simple_list)) # we can also use built-in function"
   ]
  },
  {
   "cell_type": "code",
   "execution_count": 5,
   "metadata": {},
   "outputs": [
    {
     "output_type": "execute_result",
     "data": {
      "text/plain": "[2, 4, 6, 8]"
     },
     "metadata": {},
     "execution_count": 5
    }
   ],
   "source": [
    "list(map(lambda el: el * 2, simple_list))"
   ]
  },
  {
   "cell_type": "code",
   "execution_count": null,
   "metadata": {},
   "outputs": [],
   "source": []
  }
 ]
}
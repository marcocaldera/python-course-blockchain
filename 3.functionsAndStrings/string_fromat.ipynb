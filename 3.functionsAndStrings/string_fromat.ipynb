{
 "metadata": {
  "language_info": {
   "codemirror_mode": {
    "name": "ipython",
    "version": 3
   },
   "file_extension": ".py",
   "mimetype": "text/x-python",
   "name": "python",
   "nbconvert_exporter": "python",
   "pygments_lexer": "ipython3",
   "version": 3
  },
  "orig_nbformat": 2,
  "kernelspec": {
   "name": "python_defaultSpec_1596360126029",
   "display_name": "Python 3.8.2 64-bit"
  }
 },
 "nbformat": 4,
 "nbformat_minor": 2,
 "cells": [
  {
   "cell_type": "markdown",
   "metadata": {},
   "source": [
    "# Format\n",
    "Docs: https://docs.python.org/3.4/library/string.html#formatspec"
   ]
  },
  {
   "cell_type": "code",
   "execution_count": 1,
   "metadata": {},
   "outputs": [],
   "source": [
    "name = 'Marco'\n",
    "age = 26"
   ]
  },
  {
   "cell_type": "code",
   "execution_count": 2,
   "metadata": {},
   "outputs": [
    {
     "output_type": "execute_result",
     "data": {
      "text/plain": "'I am Marco and I am 26 years old.'"
     },
     "metadata": {},
     "execution_count": 2
    }
   ],
   "source": [
    "'I am {} and I am {} years old.'.format(name, age)"
   ]
  },
  {
   "cell_type": "code",
   "execution_count": 3,
   "metadata": {},
   "outputs": [
    {
     "output_type": "execute_result",
     "data": {
      "text/plain": "'I am Marco and I am 26 years old.'"
     },
     "metadata": {},
     "execution_count": 3
    }
   ],
   "source": [
    "'I am {0} and I am {1} years old.'.format(name, age)"
   ]
  },
  {
   "cell_type": "code",
   "execution_count": 4,
   "metadata": {},
   "outputs": [
    {
     "output_type": "execute_result",
     "data": {
      "text/plain": "'I am 26 and I am Marco years old.'"
     },
     "metadata": {},
     "execution_count": 4
    }
   ],
   "source": [
    "'I am {1} and I am {0} years old.'.format(name, age)"
   ]
  },
  {
   "cell_type": "code",
   "execution_count": 5,
   "metadata": {},
   "outputs": [
    {
     "output_type": "execute_result",
     "data": {
      "text/plain": "'I am Marco and I am 26 years old.'"
     },
     "metadata": {},
     "execution_count": 5
    }
   ],
   "source": [
    "'I am {nome} and I am {anni} years old.'.format(nome=name, anni=age)"
   ]
  },
  {
   "cell_type": "code",
   "execution_count": 6,
   "metadata": {},
   "outputs": [
    {
     "output_type": "execute_result",
     "data": {
      "text/plain": "'Funds: 150.9723'"
     },
     "metadata": {},
     "execution_count": 6
    }
   ],
   "source": [
    "funds = 150.9723\n",
    "\n",
    "'Funds: {}'.format(funds)"
   ]
  },
  {
   "cell_type": "code",
   "execution_count": 20,
   "metadata": {},
   "outputs": [
    {
     "output_type": "execute_result",
     "data": {
      "text/plain": "'Funds: 150.972300'"
     },
     "metadata": {},
     "execution_count": 20
    }
   ],
   "source": [
    "'Funds: {:f}'.format(funds)"
   ]
  },
  {
   "cell_type": "code",
   "execution_count": 9,
   "metadata": {},
   "outputs": [
    {
     "output_type": "execute_result",
     "data": {
      "text/plain": "'Funds: 151.0'"
     },
     "metadata": {},
     "execution_count": 9
    }
   ],
   "source": [
    "'Funds: {:.1f}'.format(funds)"
   ]
  },
  {
   "cell_type": "code",
   "execution_count": 10,
   "metadata": {},
   "outputs": [
    {
     "output_type": "execute_result",
     "data": {
      "text/plain": "'Funds:      151.0'"
     },
     "metadata": {},
     "execution_count": 10
    }
   ],
   "source": [
    "'Funds: {:10.1f}'.format(funds) # metto uno spazio di 10 digit dopo \"Funds: \""
   ]
  },
  {
   "cell_type": "code",
   "execution_count": 11,
   "metadata": {},
   "outputs": [
    {
     "output_type": "execute_result",
     "data": {
      "text/plain": "'Funds: 151.0     '"
     },
     "metadata": {},
     "execution_count": 11
    }
   ],
   "source": [
    "'Funds: {:<10.1f}'.format(funds) # left"
   ]
  },
  {
   "cell_type": "code",
   "execution_count": 12,
   "metadata": {},
   "outputs": [
    {
     "output_type": "execute_result",
     "data": {
      "text/plain": "'Funds:   151.0   '"
     },
     "metadata": {},
     "execution_count": 12
    }
   ],
   "source": [
    "'Funds: {:^10.1f}'.format(funds) # centered"
   ]
  },
  {
   "cell_type": "code",
   "execution_count": 13,
   "metadata": {},
   "outputs": [
    {
     "output_type": "execute_result",
     "data": {
      "text/plain": "'Funds: --151.0---'"
     },
     "metadata": {},
     "execution_count": 13
    }
   ],
   "source": [
    "'Funds: {:-^10.1f}'.format(funds) # placeholder per gli spazi vuoti"
   ]
  },
  {
   "cell_type": "markdown",
   "metadata": {},
   "source": [
    "## Escaping char"
   ]
  },
  {
   "cell_type": "code",
   "execution_count": 15,
   "metadata": {},
   "outputs": [
    {
     "output_type": "error",
     "ename": "SyntaxError",
     "evalue": "invalid syntax (<ipython-input-15-2443b77983df>, line 1)",
     "traceback": [
      "\u001b[0;36m  File \u001b[0;32m\"<ipython-input-15-2443b77983df>\"\u001b[0;36m, line \u001b[0;32m1\u001b[0m\n\u001b[0;31m    'I'm Max'\u001b[0m\n\u001b[0m       ^\u001b[0m\n\u001b[0;31mSyntaxError\u001b[0m\u001b[0;31m:\u001b[0m invalid syntax\n"
     ]
    }
   ],
   "source": [
    "'I'm Max'"
   ]
  },
  {
   "cell_type": "code",
   "execution_count": 16,
   "metadata": {},
   "outputs": [
    {
     "output_type": "execute_result",
     "data": {
      "text/plain": "\"I'm Max\""
     },
     "metadata": {},
     "execution_count": 16
    }
   ],
   "source": [
    "'I\\'m Max'"
   ]
  },
  {
   "cell_type": "markdown",
   "metadata": {},
   "source": [
    "## `f` character instead of `.format`"
   ]
  },
  {
   "cell_type": "code",
   "execution_count": 18,
   "metadata": {},
   "outputs": [
    {
     "output_type": "execute_result",
     "data": {
      "text/plain": "'I am Marco and I am 26 years old.'"
     },
     "metadata": {},
     "execution_count": 18
    }
   ],
   "source": [
    "f'I am {name} and I am {age} years old.'"
   ]
  },
  {
   "cell_type": "code",
   "execution_count": 19,
   "metadata": {},
   "outputs": [
    {
     "output_type": "execute_result",
     "data": {
      "text/plain": "'I am Marco and I am 26.00 years old.'"
     },
     "metadata": {},
     "execution_count": 19
    }
   ],
   "source": [
    "f'I am {name} and I am {age:.2f} years old.'"
   ]
  },
  {
   "cell_type": "code",
   "execution_count": null,
   "metadata": {},
   "outputs": [],
   "source": []
  }
 ]
}
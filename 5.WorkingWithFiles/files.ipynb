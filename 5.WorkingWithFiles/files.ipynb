{
 "metadata": {
  "language_info": {
   "codemirror_mode": {
    "name": "ipython",
    "version": 3
   },
   "file_extension": ".py",
   "mimetype": "text/x-python",
   "name": "python",
   "nbconvert_exporter": "python",
   "pygments_lexer": "ipython3",
   "version": 3
  },
  "orig_nbformat": 2,
  "kernelspec": {
   "name": "python_defaultSpec_1596890088171",
   "display_name": "Python 3.8.2 64-bit"
  }
 },
 "nbformat": 4,
 "nbformat_minor": 2,
 "cells": [
  {
   "cell_type": "markdown",
   "metadata": {},
   "source": [
    "```\n",
    "w = scrittura con overraide\n",
    "a = scrittura con append\n",
    "r = read\n",
    "r+ = read + write\n",
    "```"
   ]
  },
  {
   "cell_type": "code",
   "execution_count": 1,
   "metadata": {},
   "outputs": [],
   "source": [
    "f = open('demo.txt', mode='w')\n",
    "f.write('Hello from Python!\\n')\n",
    "f.close()"
   ]
  },
  {
   "cell_type": "code",
   "execution_count": 2,
   "metadata": {
    "tags": []
   },
   "outputs": [
    {
     "output_type": "stream",
     "name": "stdout",
     "text": "Hello from Python!\n\n"
    }
   ],
   "source": [
    "f = open('demo.txt', mode='r')\n",
    "file_content = f.read()\n",
    "print(file_content)\n",
    "f.close()"
   ]
  },
  {
   "cell_type": "code",
   "execution_count": 3,
   "metadata": {},
   "outputs": [],
   "source": [
    "f = open('demo.txt', mode='a')\n",
    "f.write('Hello from Python!\\n')\n",
    "f.close()"
   ]
  },
  {
   "cell_type": "code",
   "execution_count": 5,
   "metadata": {
    "tags": []
   },
   "outputs": [
    {
     "output_type": "stream",
     "name": "stdout",
     "text": "Hello from Python!\nHello from Python!\n"
    }
   ],
   "source": [
    "f = open('demo.txt', mode='r')\n",
    "file_content = f.readlines()\n",
    "for line in file_content:\n",
    "    print(line[:-1]) # -1 per ignorare l'ultimo carattere '\\n'\n",
    "f.close()"
   ]
  },
  {
   "cell_type": "code",
   "execution_count": 8,
   "metadata": {
    "tags": []
   },
   "outputs": [
    {
     "output_type": "stream",
     "name": "stdout",
     "text": "Hello from Python!\n\nHello from Python!\n\n"
    }
   ],
   "source": [
    "f = open('demo.txt', mode='r')\n",
    "print(f.readline()) # only first line\n",
    "print(f.readline()) # only second line\n",
    "f.close()"
   ]
  },
  {
   "cell_type": "markdown",
   "metadata": {},
   "source": [
    "### `with keyword`\n",
    "\n",
    "In modo da evitare di ricordarsi di aprire e chiudere il file"
   ]
  },
  {
   "cell_type": "code",
   "execution_count": 9,
   "metadata": {
    "tags": []
   },
   "outputs": [
    {
     "output_type": "stream",
     "name": "stdout",
     "text": "Hello from Python!\n\n"
    }
   ],
   "source": [
    "# with chiude in automatico il file quando si esce dal blocco \"with\"\n",
    "with open('demo.txt', mode='r') as f:\n",
    "    print(f.readline())"
   ]
  },
  {
   "cell_type": "code",
   "execution_count": null,
   "metadata": {},
   "outputs": [],
   "source": []
  }
 ]
}